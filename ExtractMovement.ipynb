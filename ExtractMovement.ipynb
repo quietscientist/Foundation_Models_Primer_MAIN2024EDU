{
 "cells": [
  {
   "cell_type": "markdown",
   "metadata": {},
   "source": [
    "# !! WARNING !! Before you continue... \n",
    "\n",
    "1. Make sure you've made a copy in your Drive (you can't save otherwise)\n",
    "2. Make sure you've changed your kernel type to GPU"
   ]
  },
  {
   "cell_type": "code",
   "execution_count": null,
   "metadata": {},
   "outputs": [
    {
     "name": "stdout",
     "output_type": "stream",
     "text": [
      "\n",
      "sudo: a password is required\n",
      "Password:"
     ]
    }
   ],
   "source": [
    "# @title Setup your linux environment on Google Colab\n",
    "\n",
    "!sudo apt install python3.8-full python3-pip\n",
    "!sudo update-alternatives --install /usr/bin/python3 python3 /usr/bin/python3.8 1\n",
    "!python --version\n",
    "\n",
    "!pip3 install torch==2.1.2 torchvision==0.16.2 torchaudio==2.1.2 --index-url https://download.pytorch.org/whl/cu121\n"
   ]
  },
  {
   "cell_type": "code",
   "execution_count": 1,
   "metadata": {},
   "outputs": [
    {
     "name": "stdout",
     "output_type": "stream",
     "text": [
      "Traceback (most recent call last):\n",
      "  File \"/Users/melian/Documents/UPenn/MAIN2024EDU/Foundation_Models_Primer_MAIN2024EDU/.conda/bin/mim\", line 8, in <module>\n",
      "    sys.exit(cli())\n",
      "  File \"/Users/melian/Documents/UPenn/MAIN2024EDU/Foundation_Models_Primer_MAIN2024EDU/.conda/lib/python3.10/site-packages/click/core.py\", line 1157, in __call__\n",
      "    return self.main(*args, **kwargs)\n",
      "  File \"/Users/melian/Documents/UPenn/MAIN2024EDU/Foundation_Models_Primer_MAIN2024EDU/.conda/lib/python3.10/site-packages/click/core.py\", line 1078, in main\n",
      "    rv = self.invoke(ctx)\n",
      "  File \"/Users/melian/Documents/UPenn/MAIN2024EDU/Foundation_Models_Primer_MAIN2024EDU/.conda/lib/python3.10/site-packages/click/core.py\", line 1688, in invoke\n",
      "    return _process_result(sub_ctx.command.invoke(sub_ctx))\n",
      "  File \"/Users/melian/Documents/UPenn/MAIN2024EDU/Foundation_Models_Primer_MAIN2024EDU/.conda/lib/python3.10/site-packages/click/core.py\", line 1434, in invoke\n",
      "    return ctx.invoke(self.callback, **ctx.params)\n",
      "  File \"/Users/melian/Documents/UPenn/MAIN2024EDU/Foundation_Models_Primer_MAIN2024EDU/.conda/lib/python3.10/site-packages/click/core.py\", line 783, in invoke\n",
      "    return __callback(*args, **kwargs)\n",
      "  File \"/Users/melian/Documents/UPenn/MAIN2024EDU/Foundation_Models_Primer_MAIN2024EDU/.conda/lib/python3.10/site-packages/mim/commands/install.py\", line 72, in cli\n",
      "    exit_code = install(list(args), index_url=index_url, is_yes=is_yes)\n",
      "  File \"/Users/melian/Documents/UPenn/MAIN2024EDU/Foundation_Models_Primer_MAIN2024EDU/.conda/lib/python3.10/site-packages/mim/commands/install.py\", line 128, in install\n",
      "    install_args += ['-f', get_mmcv_full_find_link(mmcv_base_url)]\n",
      "  File \"/Users/melian/Documents/UPenn/MAIN2024EDU/Foundation_Models_Primer_MAIN2024EDU/.conda/lib/python3.10/site-packages/mim/commands/install.py\", line 165, in get_mmcv_full_find_link\n",
      "    torch_v, cuda_v = get_torch_cuda_version()\n",
      "  File \"/Users/melian/Documents/UPenn/MAIN2024EDU/Foundation_Models_Primer_MAIN2024EDU/.conda/lib/python3.10/site-packages/mim/utils/utils.py\", line 340, in get_torch_cuda_version\n",
      "    raise err\n",
      "  File \"/Users/melian/Documents/UPenn/MAIN2024EDU/Foundation_Models_Primer_MAIN2024EDU/.conda/lib/python3.10/site-packages/mim/utils/utils.py\", line 338, in get_torch_cuda_version\n",
      "    import torch\n",
      "ModuleNotFoundError: No module named 'torch'\n",
      "Traceback (most recent call last):\n",
      "  File \"/Users/melian/Documents/UPenn/MAIN2024EDU/Foundation_Models_Primer_MAIN2024EDU/.conda/bin/mim\", line 8, in <module>\n",
      "    sys.exit(cli())\n",
      "  File \"/Users/melian/Documents/UPenn/MAIN2024EDU/Foundation_Models_Primer_MAIN2024EDU/.conda/lib/python3.10/site-packages/click/core.py\", line 1157, in __call__\n",
      "    return self.main(*args, **kwargs)\n",
      "  File \"/Users/melian/Documents/UPenn/MAIN2024EDU/Foundation_Models_Primer_MAIN2024EDU/.conda/lib/python3.10/site-packages/click/core.py\", line 1078, in main\n",
      "    rv = self.invoke(ctx)\n",
      "  File \"/Users/melian/Documents/UPenn/MAIN2024EDU/Foundation_Models_Primer_MAIN2024EDU/.conda/lib/python3.10/site-packages/click/core.py\", line 1688, in invoke\n",
      "    return _process_result(sub_ctx.command.invoke(sub_ctx))\n",
      "  File \"/Users/melian/Documents/UPenn/MAIN2024EDU/Foundation_Models_Primer_MAIN2024EDU/.conda/lib/python3.10/site-packages/click/core.py\", line 1434, in invoke\n",
      "    return ctx.invoke(self.callback, **ctx.params)\n",
      "  File \"/Users/melian/Documents/UPenn/MAIN2024EDU/Foundation_Models_Primer_MAIN2024EDU/.conda/lib/python3.10/site-packages/click/core.py\", line 783, in invoke\n",
      "    return __callback(*args, **kwargs)\n",
      "  File \"/Users/melian/Documents/UPenn/MAIN2024EDU/Foundation_Models_Primer_MAIN2024EDU/.conda/lib/python3.10/site-packages/mim/commands/install.py\", line 72, in cli\n",
      "    exit_code = install(list(args), index_url=index_url, is_yes=is_yes)\n",
      "  File \"/Users/melian/Documents/UPenn/MAIN2024EDU/Foundation_Models_Primer_MAIN2024EDU/.conda/lib/python3.10/site-packages/mim/commands/install.py\", line 128, in install\n",
      "    install_args += ['-f', get_mmcv_full_find_link(mmcv_base_url)]\n",
      "  File \"/Users/melian/Documents/UPenn/MAIN2024EDU/Foundation_Models_Primer_MAIN2024EDU/.conda/lib/python3.10/site-packages/mim/commands/install.py\", line 165, in get_mmcv_full_find_link\n",
      "    torch_v, cuda_v = get_torch_cuda_version()\n",
      "  File \"/Users/melian/Documents/UPenn/MAIN2024EDU/Foundation_Models_Primer_MAIN2024EDU/.conda/lib/python3.10/site-packages/mim/utils/utils.py\", line 340, in get_torch_cuda_version\n",
      "    raise err\n",
      "  File \"/Users/melian/Documents/UPenn/MAIN2024EDU/Foundation_Models_Primer_MAIN2024EDU/.conda/lib/python3.10/site-packages/mim/utils/utils.py\", line 338, in get_torch_cuda_version\n",
      "    import torch\n",
      "ModuleNotFoundError: No module named 'torch'\n",
      "Traceback (most recent call last):\n",
      "  File \"/Users/melian/Documents/UPenn/MAIN2024EDU/Foundation_Models_Primer_MAIN2024EDU/.conda/bin/mim\", line 8, in <module>\n",
      "    sys.exit(cli())\n",
      "  File \"/Users/melian/Documents/UPenn/MAIN2024EDU/Foundation_Models_Primer_MAIN2024EDU/.conda/lib/python3.10/site-packages/click/core.py\", line 1157, in __call__\n",
      "    return self.main(*args, **kwargs)\n",
      "  File \"/Users/melian/Documents/UPenn/MAIN2024EDU/Foundation_Models_Primer_MAIN2024EDU/.conda/lib/python3.10/site-packages/click/core.py\", line 1078, in main\n",
      "    rv = self.invoke(ctx)\n",
      "  File \"/Users/melian/Documents/UPenn/MAIN2024EDU/Foundation_Models_Primer_MAIN2024EDU/.conda/lib/python3.10/site-packages/click/core.py\", line 1688, in invoke\n",
      "    return _process_result(sub_ctx.command.invoke(sub_ctx))\n",
      "  File \"/Users/melian/Documents/UPenn/MAIN2024EDU/Foundation_Models_Primer_MAIN2024EDU/.conda/lib/python3.10/site-packages/click/core.py\", line 1434, in invoke\n",
      "    return ctx.invoke(self.callback, **ctx.params)\n",
      "  File \"/Users/melian/Documents/UPenn/MAIN2024EDU/Foundation_Models_Primer_MAIN2024EDU/.conda/lib/python3.10/site-packages/click/core.py\", line 783, in invoke\n",
      "    return __callback(*args, **kwargs)\n",
      "  File \"/Users/melian/Documents/UPenn/MAIN2024EDU/Foundation_Models_Primer_MAIN2024EDU/.conda/lib/python3.10/site-packages/mim/commands/install.py\", line 72, in cli\n",
      "    exit_code = install(list(args), index_url=index_url, is_yes=is_yes)\n",
      "  File \"/Users/melian/Documents/UPenn/MAIN2024EDU/Foundation_Models_Primer_MAIN2024EDU/.conda/lib/python3.10/site-packages/mim/commands/install.py\", line 128, in install\n",
      "    install_args += ['-f', get_mmcv_full_find_link(mmcv_base_url)]\n",
      "  File \"/Users/melian/Documents/UPenn/MAIN2024EDU/Foundation_Models_Primer_MAIN2024EDU/.conda/lib/python3.10/site-packages/mim/commands/install.py\", line 165, in get_mmcv_full_find_link\n",
      "    torch_v, cuda_v = get_torch_cuda_version()\n",
      "  File \"/Users/melian/Documents/UPenn/MAIN2024EDU/Foundation_Models_Primer_MAIN2024EDU/.conda/lib/python3.10/site-packages/mim/utils/utils.py\", line 340, in get_torch_cuda_version\n",
      "    raise err\n",
      "  File \"/Users/melian/Documents/UPenn/MAIN2024EDU/Foundation_Models_Primer_MAIN2024EDU/.conda/lib/python3.10/site-packages/mim/utils/utils.py\", line 338, in get_torch_cuda_version\n",
      "    import torch\n",
      "ModuleNotFoundError: No module named 'torch'\n",
      "Traceback (most recent call last):\n",
      "  File \"/Users/melian/Documents/UPenn/MAIN2024EDU/Foundation_Models_Primer_MAIN2024EDU/.conda/bin/mim\", line 8, in <module>\n",
      "    sys.exit(cli())\n",
      "  File \"/Users/melian/Documents/UPenn/MAIN2024EDU/Foundation_Models_Primer_MAIN2024EDU/.conda/lib/python3.10/site-packages/click/core.py\", line 1157, in __call__\n",
      "    return self.main(*args, **kwargs)\n",
      "  File \"/Users/melian/Documents/UPenn/MAIN2024EDU/Foundation_Models_Primer_MAIN2024EDU/.conda/lib/python3.10/site-packages/click/core.py\", line 1078, in main\n",
      "    rv = self.invoke(ctx)\n",
      "  File \"/Users/melian/Documents/UPenn/MAIN2024EDU/Foundation_Models_Primer_MAIN2024EDU/.conda/lib/python3.10/site-packages/click/core.py\", line 1688, in invoke\n",
      "    return _process_result(sub_ctx.command.invoke(sub_ctx))\n",
      "  File \"/Users/melian/Documents/UPenn/MAIN2024EDU/Foundation_Models_Primer_MAIN2024EDU/.conda/lib/python3.10/site-packages/click/core.py\", line 1434, in invoke\n",
      "    return ctx.invoke(self.callback, **ctx.params)\n",
      "  File \"/Users/melian/Documents/UPenn/MAIN2024EDU/Foundation_Models_Primer_MAIN2024EDU/.conda/lib/python3.10/site-packages/click/core.py\", line 783, in invoke\n",
      "    return __callback(*args, **kwargs)\n",
      "  File \"/Users/melian/Documents/UPenn/MAIN2024EDU/Foundation_Models_Primer_MAIN2024EDU/.conda/lib/python3.10/site-packages/mim/commands/install.py\", line 72, in cli\n",
      "    exit_code = install(list(args), index_url=index_url, is_yes=is_yes)\n",
      "  File \"/Users/melian/Documents/UPenn/MAIN2024EDU/Foundation_Models_Primer_MAIN2024EDU/.conda/lib/python3.10/site-packages/mim/commands/install.py\", line 128, in install\n",
      "    install_args += ['-f', get_mmcv_full_find_link(mmcv_base_url)]\n",
      "  File \"/Users/melian/Documents/UPenn/MAIN2024EDU/Foundation_Models_Primer_MAIN2024EDU/.conda/lib/python3.10/site-packages/mim/commands/install.py\", line 165, in get_mmcv_full_find_link\n",
      "    torch_v, cuda_v = get_torch_cuda_version()\n",
      "  File \"/Users/melian/Documents/UPenn/MAIN2024EDU/Foundation_Models_Primer_MAIN2024EDU/.conda/lib/python3.10/site-packages/mim/utils/utils.py\", line 340, in get_torch_cuda_version\n",
      "    raise err\n",
      "  File \"/Users/melian/Documents/UPenn/MAIN2024EDU/Foundation_Models_Primer_MAIN2024EDU/.conda/lib/python3.10/site-packages/mim/utils/utils.py\", line 338, in get_torch_cuda_version\n",
      "    import torch\n",
      "ModuleNotFoundError: No module named 'torch'\n"
     ]
    }
   ],
   "source": [
    "# @title Install dependencies\n",
    "\n",
    "!pip install openmim --quiet\n",
    "!mim install mmengine --quiet\n",
    "!mim install 'mmcv>=2.1.0,<2.2.0'\n",
    "!mim install \"mmpose>=1.1.0\" --quiet\n",
    "!mim install \"mmdet==3.1.0\" --quiet\n",
    "\n",
    "!git clone https://github.com/open-mmlab/mmpose.git\n",
    "%cd mmpose\n",
    "!pip install -r requirements.txt\n",
    "!pip install -v -e .\n",
    "# \"-v\" means verbose, or "
   ]
  },
  {
   "cell_type": "code",
   "execution_count": null,
   "metadata": {},
   "outputs": [],
   "source": []
  }
 ],
 "metadata": {
  "kernelspec": {
   "display_name": "Python 3",
   "language": "python",
   "name": "python3"
  },
  "language_info": {
   "codemirror_mode": {
    "name": "ipython",
    "version": 3
   },
   "file_extension": ".py",
   "mimetype": "text/x-python",
   "name": "python",
   "nbconvert_exporter": "python",
   "pygments_lexer": "ipython3",
   "version": "3.10.15"
  }
 },
 "nbformat": 4,
 "nbformat_minor": 2
}
